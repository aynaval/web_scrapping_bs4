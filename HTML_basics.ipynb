{
  "nbformat": 4,
  "nbformat_minor": 0,
  "metadata": {
    "colab": {
      "provenance": [],
      "authorship_tag": "ABX9TyNeXIrU7dxgECq+mc73Amm6",
      "include_colab_link": true
    },
    "kernelspec": {
      "name": "python3",
      "display_name": "Python 3"
    },
    "language_info": {
      "name": "python"
    }
  },
  "cells": [
    {
      "cell_type": "markdown",
      "metadata": {
        "id": "view-in-github",
        "colab_type": "text"
      },
      "source": [
        "<a href=\"https://colab.research.google.com/github/aynaval/web_scrapping_bs4/blob/main/HTML_basics.ipynb\" target=\"_parent\"><img src=\"https://colab.research.google.com/assets/colab-badge.svg\" alt=\"Open In Colab\"/></a>"
      ]
    },
    {
      "cell_type": "markdown",
      "source": [
        "\n",
        "\n",
        "\n",
        "## Architecture of web page:\n",
        "* Website: The front end of webpage that we see and interact with\n",
        "* Server: Facilitates user interaction with website\n",
        "* IP address : Where website is hosted\n",
        "\n"
      ],
      "metadata": {
        "id": "SCQj8c5UUuHS"
      }
    },
    {
      "cell_type": "markdown",
      "source": [
        "## Following are the most common languages used to create webpage:\n",
        "* HTML: Describes the structure of web page\n",
        "* CSS : Describes the style of webpage\n",
        "* JavaScript: Used for interactivity of webpage"
      ],
      "metadata": {
        "id": "A8MbVBkKV0uo"
      }
    },
    {
      "cell_type": "markdown",
      "source": [
        "# **Following are the basics of html needed for web scraping**\n",
        "\n",
        "  The basic element in HTML is tags. \n",
        "\n",
        "  Tags are defines in the following format \\<tag> ---- \\</tag>. \n",
        "\n",
        "  Empty tags do not have closing tag eg: \\<img>,\\<br> etc.\n",
        "\n",
        "  Tags define the structure of webpage. (think of tags on cloths which describe its information)\n",
        "\n",
        "  Sample basic HTML code \n",
        "  \n",
        "\n",
        "\n",
        "```\n",
        "<!DOCTYPE html>\n",
        "<html>\n",
        "<head>\n",
        " <title> This is title </title>\n",
        "</head>\n",
        "<body>\n",
        "This is body\n",
        "</body>\n",
        "</html>\n",
        "```\n",
        "\n",
        "\n",
        "\n",
        "\n",
        "  \n",
        "\n",
        "\n"
      ],
      "metadata": {
        "id": "A07AQ6MiVx96"
      }
    },
    {
      "cell_type": "markdown",
      "source": [
        "## Most commonly used tags:\n",
        "\n",
        "\n",
        "```\n",
        "1. <head>\n",
        "2. <body>\n",
        "3. <header>\n",
        "4. <p>\n",
        "5. <h1>,<h2>,<h3>,......,<h6>\n",
        "6. <article>\n",
        "7. <div>\n",
        "8. <button>\n",
        "9. <table>\n",
        "10. <td>\n",
        "11. <tr>\n",
        "12. <a>\n",
        "13. <iframe>\n",
        "\n",
        "```\n",
        "\n",
        "\n",
        "\n"
      ],
      "metadata": {
        "id": "ZJY8tF-kgih2"
      }
    },
    {
      "cell_type": "code",
      "source": [],
      "metadata": {
        "id": "UnpmAFi8Vw_y"
      },
      "execution_count": null,
      "outputs": []
    }
  ]
}